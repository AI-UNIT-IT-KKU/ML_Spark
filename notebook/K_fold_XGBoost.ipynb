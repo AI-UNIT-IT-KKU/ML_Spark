{
  "nbformat": 4,
  "nbformat_minor": 0,
  "metadata": {
    "colab": {
      "provenance": []
    },
    "kernelspec": {
      "name": "python3",
      "display_name": "Python 3"
    },
    "language_info": {
      "name": "python"
    }
  },
  "cells": [
    {
      "cell_type": "markdown",
      "source": [
        "# 9. Model Optimization and Advanced Boosting\n"
      ],
      "metadata": {
        "id": "WgMs_8zOYG0-"
      }
    },
    {
      "cell_type": "markdown",
      "source": [
        "## 9.1 k-Fold Cross Validation"
      ],
      "metadata": {
        "id": "wih4u5DSYJoV"
      }
    },
    {
      "cell_type": "markdown",
      "source": [
        "![download (19).png](data:image/png;base64,iVBORw0KGgoAAAANSUhEUgAAAQ4AAAC7CAMAAACjH4DlAAABU1BMVEX///+Z/8zu7u6Dyv//zJn//P+Y/8yEzP+/yNfx8fCd/9F217xy0bqb/8/I0+Tc4uzh4+fy8vm0ztmyy9qO0ciczs6a0cyI0cSA3cKUzctiquUAAADz+P7ZspPIq5uGz//W2OnL2OV2zL+O98eA5cF7seKVuuGyx+FtsuvIyMhQhmuh/9eE3LDn5+fPz89LfWRdm3xFc1x1w5y1tbWO7b6np6daWlpxvJbY2NiHh4dnZ2c4XktVjXGxsbHjupV7zaSNjY1uqtd2dnZorYpil7+bm5tRUVFOeJdFaoZmncZbjLF9fX1vb28+Z1KN2f8rSDoyTWFBQUE9XnfLo3pLc5IbGxsgNSszVEP/1qBkUDyefl+0kGzXrIHvv4+er8qUv8pMmtkYJS8WJR0rKyt2vL0sRFdar7Q4ODgjNkR/t8O+oI+vnJg2KyClhGOMcFR9ZEtYRjX88KyAAAAU40lEQVR4nO2d/WPaRprHB0iijG4Vx8lmu01yq00pTQckIZAEAqMTIMS7HZs4TWI7zd6muba319z9/z/dM3oBJNuDW4NsJ/q2vEhMZqQPz8wzMzwzRug8Pb/75enHc2mgu/jL0z0WjuyXJnz3euHAV/sVXCscMjYVAq/3zSwOwCR8CdcIB240EXGbWUxqbpNgxcSGRZ8TvYbrgyPbdU1iTAGHgXCNuA3SMAyrZiZ5CdcHB3YbbkPxcLgYN83GxDAUrV1TkryKa4Sjb5o1v7K0Zdftmq5raLUsVJskL+La4JAJxgpRtCy+77oaNl3FkA3FVbQvEwd1IrQjlPVe/Lc4OJHcNVwfHNdBbBxfnhid9B+vejx1BWIM4VKlSpUqVapUm9TtG6DkaLz/txugu2j7H4/Xp3+cj+NR5vrrzj20/T23Pn3PwHHnqm92tTwcubUpGRzC/Cl66vJi4eAucCY5HDqI3rWQyVeFjCDYuiCEHOBIEIJ3m8LB5QqFQo4DBBzH+Sc69B0XHieKQ6g6LxxJ1/N2JgMvkiDldUkX4AGfSXqF1yXebvGSdCkeLOsojP9z3Cl0RK5TyM1yObFTOBQ7HXE8hnfn8NigdQiZcskp54v2TqasttRqS/rBfp3Zsf/JC1KlXtFbDpyznZZ9GR7MtkPc3xsNeuPBeNzZz4m9wWDQGQ9GcNjbP4fHJtuOPOCwedV5kSmqku6oUrlU1p1SmRccqVTOt9Si5EitorNJHIPDwTA3G+RmojjM5Q4Lh0NgMxrsd64ARwVw6BX9n3pZlSSnJVVKFTj8gRdsFeyjalcktaKr6uZwfNwbjwudUWHQA+sY93qDYQFsBQ5mo+RxZGxoI4RqVZJsSc9Lkm7zNg8Q+IxQt+2MI9Xzju7o9csUwcTBjTixN87lxj2xV+C48aiTGxd68IDnK8AheI7Fk+dCqH+ptFTeOxk+Luda2P0O6lVELidynoulDkX0HuJ5riXxbhjP8+vMLslu2Dqve0NacyddZOB4/6frrwSHcKlSpUqVKlWqVKlSpUqVKlWqVKlSpUqVKlWqVKn+mLbuMQUp2Am2ENpmp3iK0DNmgmcIPWVnsZ0YDuZqJ/xsG22zU9yFLJhri2S42+ersnh2/48uT0oax9N7q+7l3uVx3GPjACO1skniwMHybxyskMdxHBgvFojj7Hwd/RIOHJ4Ks8BxHPFC/FKWcJwuBIc43CducjhMTbNo4aaGMTFxFpMYDkw0jdCrNWR4QIJgrecChwxZwGdYNiAbguHYXyu8wBEvhC4jjeCYF+L6hUCWXh7+4rVaOykc2GorBBNDJq5stOGK3AM5hqOvEDNraGgqE20Kt9PQungZByZdhWQVwzQn2DAsjKdK01taP8eBLZcsCoH7xJNpDEdYSDOr0UK0tmJm5zjQByUpHJprmkrXrCnu1JzCd4a6cRw1U5G7xNW6kKwPt4KIG8WhNEzFbMo1s9EgbQuycJvRyoItYKVMzKZiNM2pAnerTWI4vEKUsBBsNadkYR1IfpUYjollaRqqEXeKLB8HjuGwDGWKlPZEsxB8qWBP0cqClaZlEBd1lfYUEcAhZ9skZh1QiKWhPjGmyCBYPiA1OYbDL8TtwrVQy8HoYAkH6m/ePILKAtXZrMG3AlfSh8pC+pYcqywI44Y1UaZKTTugCQiJVRYX2o0aaZqTtjGFytLXmkoUh0ELaWpgY1Otr2CZkH4MR1hI0y/EahiNZRzaJBkcWRmuizaAspklpgz3RkgMB20HaAMI/9EKbRKiRHBk4Z9m4RbhI0yzyGaJGWtKY4VAq2rGKkukENpek7lnocIfEsKRDV3k3EniaNsx/wwHn4UpYv0Oej/ZhT/Nnup3RD475WhPFZJdxoGeJIrjlBLrhq3olSaH4/l9lu4CjrvsFECUmeA+4PiRmeA5EN1aVUhCOLa3mIIU7AQwunrKTnF7VRZbK7N4mhiOG6UUR0QpjohSHBGlOCJKcUSU4ogogW5YgaXH0A376SuW3iP0kJngK+hW/Loqi2fsLJLrlX7HXp6dRdt/Za41+QtCD5grhO78HaFvmFl8BTjyK9azJIfjjMVUc63EcefRjcaBsXwWDk4UxWUanBjHwfO8t55NDx7B4QKHEK74gk/zee84hiNMkacp/BMxHLFChLCQtePQJhPDe9UUpCGUrZFlHNxofzjLAZLOQBTHHY4b/RLDwe8Wy3W4Wn43z5cqfEbfrXgrhec4BOl1saxDAr1c4qW6IKjFShSHUIU86B3baqnkSAKcKPMRHLFCBGmnWBU2gqOJkUxqE4uQptYHHFoUR2+0t5fbHw464/GQrsYtDE/hKJVK9fJuvqzvqDuAQ+crfBSHUyoJlVZLb1UrlaogSHxRj+Ko26VSZrfoSI5T3AEcerkYxxEWkqeFCHW1uiHrQG7XUizUBxwyNZMYjtHH4XDU29vvjGd7YB05cRbHsVMs25WSpBardWodQqaiZ6I4XhSL8L2XpVa5ZNeFTEmt5GPWsVNsVaulHcmpUOsQypk4jtd+IU7ZK0SQvPW4m8ABCA4UA9UIqZ2FozeCijKmOPb3BoBjb+a3IUs4SnxpN2M7ZVvlwTrylQyfiVsHr7dKu3qrnKlDZWmVHN/S/76wDqgoDsWxW2pJgl5p/aALERxeIYJdL9sOFEK3e3i9GRxkMlGUbsM0TRd1sXe4jKNDLWIw7BR6neGgwImD2SxqHYIKdV0vtngn01JVQbDL/rL6RVOq0w0rnGI17+hl1RagYWjF2g4bKgivFiX40ssq2BYvOFHr8AqRoBDVKySjQ2u0mbbDQ6KdcTLwLPRZFL1VpiJH34oxzyL4rgFePf8gnPIsQQq6qNr77AzPIvgeSRDCz4SYZ1kuRFhyXxvBgfG5OM7T597vOAMHs1e6TXHcYcjrlTIU4GCl8HGwMklurvT5d0w9RbffP2LpAdwLM8EjGLOws4AxyxY7i2eJ4bhRSnFElOKIKMUR0eZxPHvA0sPb0NgyBT5wi5nFg22EHrILQWibncVWYjgesRzcnW+3Ef6e1TPhvlvhaO94jpaZwHO0zBTJOVr2ZjceDlY/zcdxg7thsa7po3DuZr4b3mKXvGUcotd5z+W8Lrx3HMcRZJERwmyEGI5ThZzupAcp+PAhbKiTDmM2b8SiwVAWBrNmd4qXcAiSqqp0wCE5PF+lO+I5MRzceDCAUa8oHgKIQ5Eex3DokIUOWegqz0tVAV7rQgTHqUIE3U+xGMI5qlqFBHwrz5daPM3S3tD0DyBQphONkAmd/iHz8ZyPo17P5HmnJUmq3ipKglDfyUdxiPv0+XAgznLj8UzkOuPcTFzGATebyQv1lq0X860WnQ3LnJr+CQtx9FaZjm4r8dmwnUw+o7fUUiWjOhVeqNY3VVlwY0rI0vRPdoqWcVRb9bqtelMRfAuutFQ+haPXK8xyo/GwM+D2wTr2xt4mZUs4KtW6VPTmO/IOnf5p7cSso96qV+lsSVAI70jx6Z8dyKKSqdbLtirQ2bBKpb4Z69Dm0z8eDrMRfhDgUCUpnKiqezj8er2Eo9DJzfYKAzppBnYhDnpiLooDvnbJWcyGSSXHjk3/OItCHEnQXziv9RgOScrTKTd/NiyTKZVeRKZ/Xp01Jv9DOCYTokwbiqI06Lxpu9FQlnHU67yQ31FVWr1fQ2VxfmjpURwfRU4cH84Ks8LHAbzv/TIYx6xDhWZwVy3qRacIXypfUXfilaUKhexCIU6LFpLR9d1o28G/hnbDaVX0Xf21Cu/tSjDHFOJorjOS8szpn2VHm6dNvndh+Uyssvhehb4ueiFc7pSjFRZZwHO0spwqJFTU0Xr/LvRR+ahnsRpn3MEfFT4r6P939Tu4xTMXbB6baL9j8/0w5iZ7gt8rZeliOJg7MP4OHO46zeMssfdJ/wZwsLe3AxwPmVn8CXD8FzPFT4DjTyv2SQ/1IfwFALnttmIF7xvyUqNitBuxXxoDmRfhsYb961dncbkES1eBX7mBd4GeFLKyboOgtjGRFQsMR2m4We+DA/AVWGnLGnzqNrS2Bs+y1sftNvKWS1zorm6Esk+e+AZSswx5er+LpoqGpqbVRIZcQ12wi5pmTLBJXE1DBB+gGvoAHsnFfdkwFHNiEVRbl7u+eslPwtrSzMpoet9FE0LQxNS6yDK7yAUcTVlGmmEZmgIYDlAXgExJQyOy4RqaaZgoa1zpLaxTT+YNQA0eTbMNdaPfbnrWYbbbNdn/QGu4NQPswOgrU9SHU822gQ9ox8tQ8DSRZWRJqMv8YglqXHYB4e1tpiAFO8HTlSnWk4UnzO53yC5hfn4Bvf8rS+Bot79hpniP0PPvWXq8BY6WmYXnaJkpQkdrbNzM2Xsdf7t9gdiw58zpstzW+rphtQt1HS6FY1UnffVvtGfgWJ5e3Vrj5OC6XCR2Xa+rRmCUL9PDsE16FAnsys8Du+I4GLFhPo6l8DKPRzibuMARL+QKY8OaQEA2GjIhGp0NM7BFlnAI9o4ftiWppVLdFgT7h3wUBys2zMPBdT764WWFIY2c4cTBMAiZ2bqGsWEEnC1pL6J/rJ/RMg4vbGunqC7Ctk7h8MO29DNiwwIc4709bnY4zB2OZrMex3XEYSFiHdcpNgwj6IVo88lBEynGMg4vbKs+n6jK8KdwMGLDAhy/DIedwd6sczgTOz2oLONZtO24eGyYuvHYsEnbnShN1yWkj/t0oNw0l3HUq6V52JYanRxcHRs2tw6oKHv7hcMZN+5x4uHeeMTFrCMaG1a+utgwKmKdcTJoO2w/bEv3wrYEQS2X9QgOVmyY35QWPIsYjnLjwmxAQ1Nnh9GmdB4bpq+MDfMLyeQ3GhtmnjXTGHiW5bCtpcCuhWdhxIY9XzhX0ftTGJ5P4UJHs3VNY8PO1Gb6HctaZ78jARwrfrLe/paZYlWv1MdxY36yfvaQqdsIsRM8Q2iLHfKwvSoLGtDATpBcQMONUoojohRHRCmOiDaP48HXLP26jW7/ykxBw2yZCb6GdrDAjuWF1pidRXJhtpftd1xoaeBj5g95hZX9jmsUG7aOEP3HzGi71TjW3w2zLG8mSYGRrDfbHP6avzI2LOykx8K2wsivRxeJDXscWX/o/7nUsF+/jCOx2LCpLLdlzcUaIcT7ISLcg2tlbFgwhKt7YVt8GLYlOGo+ioMVG+bh4AqDwcBbfzgWxVGHhkb4AUSF5GPDtKmFSAM1AYbpIiQb4Z5TK2PDwgG+H7bFVzKOWoGxd12PLw2Mx4YJi9gwH0evl6Nj3kJnXDgcegvu/PCyQvKxYUCgvzT90yf9yHxHtbiIDVOjsWEhjiBsq+iFbWWEklOPLRyt1M+NDQtwHPZ6nYFIF9yJhx1OHHeGcRxJxYZNDWuqNK02WEcWKoss9yOBlNVo2NZZ0z9B2FYwG8ar1VImiuN0bNh8aWCAY9zp9EZ7H4PlmIVfxh9zMRwrYsPWZx2yjIhFJ9Mx8qbUwyn6lbFhAY4wbKvih23VX6hOzDqWYsN2Y7FhPo7xSORy+/SvCR8OPtI/nVvYj7YdK2PDkpr+8XVmbNiSo10K2wp+Gog72nNiwyKOdjnCLIojXsip2LDPsN+x8LBX2e/YFI7PrFf68M8s/US3M2GmeLgqiz/DmKXD3DOFjlnYhSRnHTdKKY6IUhwRpTgiSnFElIBn+WqFZ7nNbvQfIHRvpWf5lZmAbpTFdD2Fz6zfsfJXuHs5Zs/kM5sNuwCO6ARZrOO6duswGxMv3EfTLKR4q33kZRzzXa4CnR8MlQ8e52+UlQ+zOG+jrHgpCxxBAJX/4HJcGE8V4JB/PufufreaCBFzMiGEtGkw1MSMjmjt3TAYiveCoaTX8fmOcjQYKl8+tVHWTrhRFs/DAF9wyuUojnkhNhTiBUPZLT6CQ5wNhz26HHMfwND1h/tDP0QkwGG114VDnkxNYsynfyytG138ZdNdrmicUr24CwN86cxgKLu8mynnd2kwlKTzu2dslFVuqXrL9jbKsktnbpRVKdbDYKj8IhgqwLG/tyeOZrPcLLc/2BfpBIm4bB0/n70w4w9IoUsDrcXSQGS6yzguGAzF0+kfxwuGEip6zDpeFIuSWqpIrTLvb5S1G7OOWCH8UjBUgOPjcDaaiZ3xcDTe81an9rz5sgCHcrAuGsiYTCyl2SBE6dIFDFpsWfEiGKrCCIaqCDQYisYpZTKV/DkbZQEOgW6UpTI3yoJC9N1FMNTcOqCiiKPxbDSGV65DVyQucDxZm3F4On9poBcMJbSKtlS3y3TqWN2NB0PR2XOpWBTUfFlt8UK1UozPhoFFCGqxnnekcguan3q5GG875oVUaSEZXlBj1kGXb3eGQ26Qmw3gfWE268zbDvzhrMu/hLJn0b1oMBQfOAv+vI2ywiwuuFFWdA1+6Fn8X2M4Mdipa8mzNJ9cOvz+IrqW/Y647nmNXzI4GApwrAiGWsNGWexeae55MixAD/7C0tcwZnnPTEF/wWdnQTfKYqagG2Wxf+J/tvo+Un3B+nwWN65ByofN/92emyO85g7YDZdZQ+jpOnXVN3Q5AY6t//739elfV31DlxPF8R+31qe/XfUNXU4pjohSHBHJDBzvTk5O3kXOvLwpOExC7mthhwpHR6hkvnoeZ+NjV9Jk4Dj+n+OTE0Dw8uTdW+BycvLpzcnJm99+gxPXHAf9g6ImNjUZmRqW6b41GhwiExGCXJO+kTWc7dMNJxRkKgEVt/kqy6gsb96+eXn08ujo+Pjk7a1bx7/9dnRyfPTyt+Pjl2/fnfNPrgmOJpbRxDwA23flZrZN9+CYyE3UNIlBXLOJpsjN9uHQmJhts6k0/Gg+rf3KZOM4+nT06d3/wv9vbn26devo5NMnYPPy6O155nFdcFgG3GcDddHEqOE2QgduW26brtlua645hfMN6wBNZKOLTHho4Yp7ZlP65v/eHP92cnL87ugYrAOs4ujTyRHwePvu7XmtyDXBQeN7J+YETeWGckArCxgCkp/ghtJuu2bNfIWm5gdcI0aDNMBqrHDK5z7Ts9B24xiqycs3L6F2QENy6/jdS3jQ52uNg37bMlSY+8iUQXBEZG+ei2BTRlkF2hT6t11pkCO8Rdmw1U0dbUQpjohSHBEBju1//W19uuFbIdEBfqqFniT0s8INkdxcb6DL/wOOCVcJqhePHwAAAABJRU5ErkJggg==)\n",
        "\n",
        "\n",
        "- **Idea**: Instead of splitting data into just one training and one test set, the dataset is divided into *k* equal folds.  \n",
        "- The model is trained on *k-1* folds and validated on the remaining fold.  \n",
        "- This process is repeated *k* times, and the average performance is reported.  \n",
        "\n",
        "**Benefits**:\n",
        "- Reduces bias in performance estimation.  \n",
        "- Uses all data points for both training and validation.  \n",
        "\n",
        "Equation for k-Fold Accuracy:  \n",
        "\n",
        "$$\n",
        "Accuracy = \\frac{1}{k} \\sum_{i=1}^{k} Accuracy_i\n",
        "$$\n"
      ],
      "metadata": {
        "id": "lpbe-k99YDXZ"
      }
    },
    {
      "cell_type": "markdown",
      "source": [
        "## 9.2 Grid Search"
      ],
      "metadata": {
        "id": "jVUurIsuYyZu"
      }
    },
    {
      "cell_type": "markdown",
      "source": [
        "\n",
        "- **Goal**: Find the best hyperparameters for a model by searching across a predefined parameter grid.  \n",
        "- For each parameter combination, the model is trained and evaluated using cross-validation.  \n",
        "\n",
        "**Steps**:\n",
        "1. Define a grid of hyperparameters (e.g., C, gamma for SVM).  \n",
        "2. Train and evaluate models for every parameter combination.  \n",
        "3. Select the set of hyperparameters that yields the highest performance metric.  \n",
        "\n",
        "Note: Grid Search can be computationally expensive for large parameter spaces.  \n"
      ],
      "metadata": {
        "id": "AZ6P5WjVYPph"
      }
    },
    {
      "cell_type": "markdown",
      "source": [
        "## 9.3 XGBoost"
      ],
      "metadata": {
        "id": "MDvdfLQRYkfh"
      }
    },
    {
      "cell_type": "markdown",
      "source": [
        "\n",
        "- **XGBoost (Extreme Gradient Boosting)** is one of the most powerful ensemble algorithms.  \n",
        "- Works by building multiple decision trees sequentially, where each tree corrects the errors of the previous one.  \n",
        "\n",
        "**Advantages**:\n",
        "- Fast and efficient.  \n",
        "- Handles missing values automatically.  \n",
        "- High accuracy in structured/tabular data.  \n",
        "\n",
        "**Implementation Steps**:\n",
        "1. Import the libraries.  \n",
        "2. Import the dataset.  \n",
        "3. Split the dataset into Training and Test sets.  \n",
        "4. Train XGBoost on the Training set.  \n",
        "5. Make predictions & confusion matrix.  \n",
        "6. Apply **k-Fold Cross Validation** to evaluate.  \n",
        "\n",
        "---\n"
      ],
      "metadata": {
        "id": "9i8yUofWYiwg"
      }
    },
    {
      "cell_type": "markdown",
      "source": [
        "## 9.4 CatBoost"
      ],
      "metadata": {
        "id": "hYgf78yCYu8c"
      }
    },
    {
      "cell_type": "markdown",
      "source": [
        "- **CatBoost** = Category Boosting.  \n",
        "- Gradient boosting model designed to handle **categorical features** natively without heavy preprocessing.  \n",
        "- Strong competitor to **LightGBM** and **XGBoost**, especially for datasets with many categorical variables.  \n",
        "\n",
        "**Advantages**:\n",
        "- Reduces the need for one-hot encoding.  \n",
        "- Avoids overfitting with built-in regularization.  \n",
        "- Often requires less parameter tuning (\"self-tuning\").  \n",
        "\n",
        "**Steps for Implementation**:\n",
        "1. Import the libraries.  \n",
        "2. Import the dataset.  \n",
        "3. Split the dataset into Training and Test sets.  \n",
        "4. Train CatBoost on the Training set.  \n",
        "5. Make predictions & confusion matrix.  \n",
        "6. Apply **k-Fold Cross Validation** to evaluate.  \n",
        "\n",
        "---\n",
        "\n",
        "With these methods — *Cross Validation, Grid Search, XGBoost, and CatBoost* — you now have some of the **most powerful tools in Machine Learning** to optimize and boost model performance in real-world datasets.\n"
      ],
      "metadata": {
        "id": "QqXkUCxWYo0V"
      }
    },
    {
      "cell_type": "code",
      "execution_count": null,
      "metadata": {
        "id": "MO3fmxBLX-jk"
      },
      "outputs": [],
      "source": []
    },
    {
      "cell_type": "markdown",
      "source": [
        "## Example k-fold in XGBoodt"
      ],
      "metadata": {
        "id": "jT_iKVV4asog"
      }
    },
    {
      "cell_type": "code",
      "source": [
        "import numpy as np\n",
        "import matplotlib.pyplot as plt\n",
        "import pandas as pd"
      ],
      "metadata": {
        "id": "6PXbl8KqarUh"
      },
      "execution_count": 1,
      "outputs": []
    },
    {
      "cell_type": "code",
      "source": [
        "dataset = pd.read_csv('/content/drive/MyDrive/data/Social_Network_Ads.csv')\n",
        "X = dataset.iloc[:, :-1].values\n",
        "y = dataset.iloc[:, -1].values"
      ],
      "metadata": {
        "id": "FgvTGykQa1cz"
      },
      "execution_count": 3,
      "outputs": []
    },
    {
      "cell_type": "code",
      "source": [
        "from sklearn.model_selection import train_test_split\n",
        "X_train, X_test, y_train, y_test = train_test_split(X, y, test_size = 0.25, random_state = 0)"
      ],
      "metadata": {
        "id": "4rfkkLLDa-Aw"
      },
      "execution_count": 4,
      "outputs": []
    },
    {
      "cell_type": "code",
      "source": [
        "from sklearn.preprocessing import StandardScaler\n",
        "sc = StandardScaler()\n",
        "X_train = sc.fit_transform(X_train)\n",
        "X_test = sc.transform(X_test)"
      ],
      "metadata": {
        "id": "3epFKRRsbAEY"
      },
      "execution_count": 5,
      "outputs": []
    },
    {
      "cell_type": "code",
      "source": [
        "from sklearn.svm import SVC\n",
        "classifier = SVC(kernel = 'rbf', random_state = 0)\n",
        "classifier.fit(X_train, y_train)"
      ],
      "metadata": {
        "colab": {
          "base_uri": "https://localhost:8080/",
          "height": 81
        },
        "id": "aLM49ArmbBIP",
        "outputId": "26cbf2fd-8d51-430c-85c8-83e5e630aa59"
      },
      "execution_count": 6,
      "outputs": [
        {
          "output_type": "execute_result",
          "data": {
            "text/plain": [
              "SVC(random_state=0)"
            ],
            "text/html": [
              "<style>#sk-container-id-1 {\n",
              "  /* Definition of color scheme common for light and dark mode */\n",
              "  --sklearn-color-text: #000;\n",
              "  --sklearn-color-text-muted: #666;\n",
              "  --sklearn-color-line: gray;\n",
              "  /* Definition of color scheme for unfitted estimators */\n",
              "  --sklearn-color-unfitted-level-0: #fff5e6;\n",
              "  --sklearn-color-unfitted-level-1: #f6e4d2;\n",
              "  --sklearn-color-unfitted-level-2: #ffe0b3;\n",
              "  --sklearn-color-unfitted-level-3: chocolate;\n",
              "  /* Definition of color scheme for fitted estimators */\n",
              "  --sklearn-color-fitted-level-0: #f0f8ff;\n",
              "  --sklearn-color-fitted-level-1: #d4ebff;\n",
              "  --sklearn-color-fitted-level-2: #b3dbfd;\n",
              "  --sklearn-color-fitted-level-3: cornflowerblue;\n",
              "\n",
              "  /* Specific color for light theme */\n",
              "  --sklearn-color-text-on-default-background: var(--sg-text-color, var(--theme-code-foreground, var(--jp-content-font-color1, black)));\n",
              "  --sklearn-color-background: var(--sg-background-color, var(--theme-background, var(--jp-layout-color0, white)));\n",
              "  --sklearn-color-border-box: var(--sg-text-color, var(--theme-code-foreground, var(--jp-content-font-color1, black)));\n",
              "  --sklearn-color-icon: #696969;\n",
              "\n",
              "  @media (prefers-color-scheme: dark) {\n",
              "    /* Redefinition of color scheme for dark theme */\n",
              "    --sklearn-color-text-on-default-background: var(--sg-text-color, var(--theme-code-foreground, var(--jp-content-font-color1, white)));\n",
              "    --sklearn-color-background: var(--sg-background-color, var(--theme-background, var(--jp-layout-color0, #111)));\n",
              "    --sklearn-color-border-box: var(--sg-text-color, var(--theme-code-foreground, var(--jp-content-font-color1, white)));\n",
              "    --sklearn-color-icon: #878787;\n",
              "  }\n",
              "}\n",
              "\n",
              "#sk-container-id-1 {\n",
              "  color: var(--sklearn-color-text);\n",
              "}\n",
              "\n",
              "#sk-container-id-1 pre {\n",
              "  padding: 0;\n",
              "}\n",
              "\n",
              "#sk-container-id-1 input.sk-hidden--visually {\n",
              "  border: 0;\n",
              "  clip: rect(1px 1px 1px 1px);\n",
              "  clip: rect(1px, 1px, 1px, 1px);\n",
              "  height: 1px;\n",
              "  margin: -1px;\n",
              "  overflow: hidden;\n",
              "  padding: 0;\n",
              "  position: absolute;\n",
              "  width: 1px;\n",
              "}\n",
              "\n",
              "#sk-container-id-1 div.sk-dashed-wrapped {\n",
              "  border: 1px dashed var(--sklearn-color-line);\n",
              "  margin: 0 0.4em 0.5em 0.4em;\n",
              "  box-sizing: border-box;\n",
              "  padding-bottom: 0.4em;\n",
              "  background-color: var(--sklearn-color-background);\n",
              "}\n",
              "\n",
              "#sk-container-id-1 div.sk-container {\n",
              "  /* jupyter's `normalize.less` sets `[hidden] { display: none; }`\n",
              "     but bootstrap.min.css set `[hidden] { display: none !important; }`\n",
              "     so we also need the `!important` here to be able to override the\n",
              "     default hidden behavior on the sphinx rendered scikit-learn.org.\n",
              "     See: https://github.com/scikit-learn/scikit-learn/issues/21755 */\n",
              "  display: inline-block !important;\n",
              "  position: relative;\n",
              "}\n",
              "\n",
              "#sk-container-id-1 div.sk-text-repr-fallback {\n",
              "  display: none;\n",
              "}\n",
              "\n",
              "div.sk-parallel-item,\n",
              "div.sk-serial,\n",
              "div.sk-item {\n",
              "  /* draw centered vertical line to link estimators */\n",
              "  background-image: linear-gradient(var(--sklearn-color-text-on-default-background), var(--sklearn-color-text-on-default-background));\n",
              "  background-size: 2px 100%;\n",
              "  background-repeat: no-repeat;\n",
              "  background-position: center center;\n",
              "}\n",
              "\n",
              "/* Parallel-specific style estimator block */\n",
              "\n",
              "#sk-container-id-1 div.sk-parallel-item::after {\n",
              "  content: \"\";\n",
              "  width: 100%;\n",
              "  border-bottom: 2px solid var(--sklearn-color-text-on-default-background);\n",
              "  flex-grow: 1;\n",
              "}\n",
              "\n",
              "#sk-container-id-1 div.sk-parallel {\n",
              "  display: flex;\n",
              "  align-items: stretch;\n",
              "  justify-content: center;\n",
              "  background-color: var(--sklearn-color-background);\n",
              "  position: relative;\n",
              "}\n",
              "\n",
              "#sk-container-id-1 div.sk-parallel-item {\n",
              "  display: flex;\n",
              "  flex-direction: column;\n",
              "}\n",
              "\n",
              "#sk-container-id-1 div.sk-parallel-item:first-child::after {\n",
              "  align-self: flex-end;\n",
              "  width: 50%;\n",
              "}\n",
              "\n",
              "#sk-container-id-1 div.sk-parallel-item:last-child::after {\n",
              "  align-self: flex-start;\n",
              "  width: 50%;\n",
              "}\n",
              "\n",
              "#sk-container-id-1 div.sk-parallel-item:only-child::after {\n",
              "  width: 0;\n",
              "}\n",
              "\n",
              "/* Serial-specific style estimator block */\n",
              "\n",
              "#sk-container-id-1 div.sk-serial {\n",
              "  display: flex;\n",
              "  flex-direction: column;\n",
              "  align-items: center;\n",
              "  background-color: var(--sklearn-color-background);\n",
              "  padding-right: 1em;\n",
              "  padding-left: 1em;\n",
              "}\n",
              "\n",
              "\n",
              "/* Toggleable style: style used for estimator/Pipeline/ColumnTransformer box that is\n",
              "clickable and can be expanded/collapsed.\n",
              "- Pipeline and ColumnTransformer use this feature and define the default style\n",
              "- Estimators will overwrite some part of the style using the `sk-estimator` class\n",
              "*/\n",
              "\n",
              "/* Pipeline and ColumnTransformer style (default) */\n",
              "\n",
              "#sk-container-id-1 div.sk-toggleable {\n",
              "  /* Default theme specific background. It is overwritten whether we have a\n",
              "  specific estimator or a Pipeline/ColumnTransformer */\n",
              "  background-color: var(--sklearn-color-background);\n",
              "}\n",
              "\n",
              "/* Toggleable label */\n",
              "#sk-container-id-1 label.sk-toggleable__label {\n",
              "  cursor: pointer;\n",
              "  display: flex;\n",
              "  width: 100%;\n",
              "  margin-bottom: 0;\n",
              "  padding: 0.5em;\n",
              "  box-sizing: border-box;\n",
              "  text-align: center;\n",
              "  align-items: start;\n",
              "  justify-content: space-between;\n",
              "  gap: 0.5em;\n",
              "}\n",
              "\n",
              "#sk-container-id-1 label.sk-toggleable__label .caption {\n",
              "  font-size: 0.6rem;\n",
              "  font-weight: lighter;\n",
              "  color: var(--sklearn-color-text-muted);\n",
              "}\n",
              "\n",
              "#sk-container-id-1 label.sk-toggleable__label-arrow:before {\n",
              "  /* Arrow on the left of the label */\n",
              "  content: \"▸\";\n",
              "  float: left;\n",
              "  margin-right: 0.25em;\n",
              "  color: var(--sklearn-color-icon);\n",
              "}\n",
              "\n",
              "#sk-container-id-1 label.sk-toggleable__label-arrow:hover:before {\n",
              "  color: var(--sklearn-color-text);\n",
              "}\n",
              "\n",
              "/* Toggleable content - dropdown */\n",
              "\n",
              "#sk-container-id-1 div.sk-toggleable__content {\n",
              "  max-height: 0;\n",
              "  max-width: 0;\n",
              "  overflow: hidden;\n",
              "  text-align: left;\n",
              "  /* unfitted */\n",
              "  background-color: var(--sklearn-color-unfitted-level-0);\n",
              "}\n",
              "\n",
              "#sk-container-id-1 div.sk-toggleable__content.fitted {\n",
              "  /* fitted */\n",
              "  background-color: var(--sklearn-color-fitted-level-0);\n",
              "}\n",
              "\n",
              "#sk-container-id-1 div.sk-toggleable__content pre {\n",
              "  margin: 0.2em;\n",
              "  border-radius: 0.25em;\n",
              "  color: var(--sklearn-color-text);\n",
              "  /* unfitted */\n",
              "  background-color: var(--sklearn-color-unfitted-level-0);\n",
              "}\n",
              "\n",
              "#sk-container-id-1 div.sk-toggleable__content.fitted pre {\n",
              "  /* unfitted */\n",
              "  background-color: var(--sklearn-color-fitted-level-0);\n",
              "}\n",
              "\n",
              "#sk-container-id-1 input.sk-toggleable__control:checked~div.sk-toggleable__content {\n",
              "  /* Expand drop-down */\n",
              "  max-height: 200px;\n",
              "  max-width: 100%;\n",
              "  overflow: auto;\n",
              "}\n",
              "\n",
              "#sk-container-id-1 input.sk-toggleable__control:checked~label.sk-toggleable__label-arrow:before {\n",
              "  content: \"▾\";\n",
              "}\n",
              "\n",
              "/* Pipeline/ColumnTransformer-specific style */\n",
              "\n",
              "#sk-container-id-1 div.sk-label input.sk-toggleable__control:checked~label.sk-toggleable__label {\n",
              "  color: var(--sklearn-color-text);\n",
              "  background-color: var(--sklearn-color-unfitted-level-2);\n",
              "}\n",
              "\n",
              "#sk-container-id-1 div.sk-label.fitted input.sk-toggleable__control:checked~label.sk-toggleable__label {\n",
              "  background-color: var(--sklearn-color-fitted-level-2);\n",
              "}\n",
              "\n",
              "/* Estimator-specific style */\n",
              "\n",
              "/* Colorize estimator box */\n",
              "#sk-container-id-1 div.sk-estimator input.sk-toggleable__control:checked~label.sk-toggleable__label {\n",
              "  /* unfitted */\n",
              "  background-color: var(--sklearn-color-unfitted-level-2);\n",
              "}\n",
              "\n",
              "#sk-container-id-1 div.sk-estimator.fitted input.sk-toggleable__control:checked~label.sk-toggleable__label {\n",
              "  /* fitted */\n",
              "  background-color: var(--sklearn-color-fitted-level-2);\n",
              "}\n",
              "\n",
              "#sk-container-id-1 div.sk-label label.sk-toggleable__label,\n",
              "#sk-container-id-1 div.sk-label label {\n",
              "  /* The background is the default theme color */\n",
              "  color: var(--sklearn-color-text-on-default-background);\n",
              "}\n",
              "\n",
              "/* On hover, darken the color of the background */\n",
              "#sk-container-id-1 div.sk-label:hover label.sk-toggleable__label {\n",
              "  color: var(--sklearn-color-text);\n",
              "  background-color: var(--sklearn-color-unfitted-level-2);\n",
              "}\n",
              "\n",
              "/* Label box, darken color on hover, fitted */\n",
              "#sk-container-id-1 div.sk-label.fitted:hover label.sk-toggleable__label.fitted {\n",
              "  color: var(--sklearn-color-text);\n",
              "  background-color: var(--sklearn-color-fitted-level-2);\n",
              "}\n",
              "\n",
              "/* Estimator label */\n",
              "\n",
              "#sk-container-id-1 div.sk-label label {\n",
              "  font-family: monospace;\n",
              "  font-weight: bold;\n",
              "  display: inline-block;\n",
              "  line-height: 1.2em;\n",
              "}\n",
              "\n",
              "#sk-container-id-1 div.sk-label-container {\n",
              "  text-align: center;\n",
              "}\n",
              "\n",
              "/* Estimator-specific */\n",
              "#sk-container-id-1 div.sk-estimator {\n",
              "  font-family: monospace;\n",
              "  border: 1px dotted var(--sklearn-color-border-box);\n",
              "  border-radius: 0.25em;\n",
              "  box-sizing: border-box;\n",
              "  margin-bottom: 0.5em;\n",
              "  /* unfitted */\n",
              "  background-color: var(--sklearn-color-unfitted-level-0);\n",
              "}\n",
              "\n",
              "#sk-container-id-1 div.sk-estimator.fitted {\n",
              "  /* fitted */\n",
              "  background-color: var(--sklearn-color-fitted-level-0);\n",
              "}\n",
              "\n",
              "/* on hover */\n",
              "#sk-container-id-1 div.sk-estimator:hover {\n",
              "  /* unfitted */\n",
              "  background-color: var(--sklearn-color-unfitted-level-2);\n",
              "}\n",
              "\n",
              "#sk-container-id-1 div.sk-estimator.fitted:hover {\n",
              "  /* fitted */\n",
              "  background-color: var(--sklearn-color-fitted-level-2);\n",
              "}\n",
              "\n",
              "/* Specification for estimator info (e.g. \"i\" and \"?\") */\n",
              "\n",
              "/* Common style for \"i\" and \"?\" */\n",
              "\n",
              ".sk-estimator-doc-link,\n",
              "a:link.sk-estimator-doc-link,\n",
              "a:visited.sk-estimator-doc-link {\n",
              "  float: right;\n",
              "  font-size: smaller;\n",
              "  line-height: 1em;\n",
              "  font-family: monospace;\n",
              "  background-color: var(--sklearn-color-background);\n",
              "  border-radius: 1em;\n",
              "  height: 1em;\n",
              "  width: 1em;\n",
              "  text-decoration: none !important;\n",
              "  margin-left: 0.5em;\n",
              "  text-align: center;\n",
              "  /* unfitted */\n",
              "  border: var(--sklearn-color-unfitted-level-1) 1pt solid;\n",
              "  color: var(--sklearn-color-unfitted-level-1);\n",
              "}\n",
              "\n",
              ".sk-estimator-doc-link.fitted,\n",
              "a:link.sk-estimator-doc-link.fitted,\n",
              "a:visited.sk-estimator-doc-link.fitted {\n",
              "  /* fitted */\n",
              "  border: var(--sklearn-color-fitted-level-1) 1pt solid;\n",
              "  color: var(--sklearn-color-fitted-level-1);\n",
              "}\n",
              "\n",
              "/* On hover */\n",
              "div.sk-estimator:hover .sk-estimator-doc-link:hover,\n",
              ".sk-estimator-doc-link:hover,\n",
              "div.sk-label-container:hover .sk-estimator-doc-link:hover,\n",
              ".sk-estimator-doc-link:hover {\n",
              "  /* unfitted */\n",
              "  background-color: var(--sklearn-color-unfitted-level-3);\n",
              "  color: var(--sklearn-color-background);\n",
              "  text-decoration: none;\n",
              "}\n",
              "\n",
              "div.sk-estimator.fitted:hover .sk-estimator-doc-link.fitted:hover,\n",
              ".sk-estimator-doc-link.fitted:hover,\n",
              "div.sk-label-container:hover .sk-estimator-doc-link.fitted:hover,\n",
              ".sk-estimator-doc-link.fitted:hover {\n",
              "  /* fitted */\n",
              "  background-color: var(--sklearn-color-fitted-level-3);\n",
              "  color: var(--sklearn-color-background);\n",
              "  text-decoration: none;\n",
              "}\n",
              "\n",
              "/* Span, style for the box shown on hovering the info icon */\n",
              ".sk-estimator-doc-link span {\n",
              "  display: none;\n",
              "  z-index: 9999;\n",
              "  position: relative;\n",
              "  font-weight: normal;\n",
              "  right: .2ex;\n",
              "  padding: .5ex;\n",
              "  margin: .5ex;\n",
              "  width: min-content;\n",
              "  min-width: 20ex;\n",
              "  max-width: 50ex;\n",
              "  color: var(--sklearn-color-text);\n",
              "  box-shadow: 2pt 2pt 4pt #999;\n",
              "  /* unfitted */\n",
              "  background: var(--sklearn-color-unfitted-level-0);\n",
              "  border: .5pt solid var(--sklearn-color-unfitted-level-3);\n",
              "}\n",
              "\n",
              ".sk-estimator-doc-link.fitted span {\n",
              "  /* fitted */\n",
              "  background: var(--sklearn-color-fitted-level-0);\n",
              "  border: var(--sklearn-color-fitted-level-3);\n",
              "}\n",
              "\n",
              ".sk-estimator-doc-link:hover span {\n",
              "  display: block;\n",
              "}\n",
              "\n",
              "/* \"?\"-specific style due to the `<a>` HTML tag */\n",
              "\n",
              "#sk-container-id-1 a.estimator_doc_link {\n",
              "  float: right;\n",
              "  font-size: 1rem;\n",
              "  line-height: 1em;\n",
              "  font-family: monospace;\n",
              "  background-color: var(--sklearn-color-background);\n",
              "  border-radius: 1rem;\n",
              "  height: 1rem;\n",
              "  width: 1rem;\n",
              "  text-decoration: none;\n",
              "  /* unfitted */\n",
              "  color: var(--sklearn-color-unfitted-level-1);\n",
              "  border: var(--sklearn-color-unfitted-level-1) 1pt solid;\n",
              "}\n",
              "\n",
              "#sk-container-id-1 a.estimator_doc_link.fitted {\n",
              "  /* fitted */\n",
              "  border: var(--sklearn-color-fitted-level-1) 1pt solid;\n",
              "  color: var(--sklearn-color-fitted-level-1);\n",
              "}\n",
              "\n",
              "/* On hover */\n",
              "#sk-container-id-1 a.estimator_doc_link:hover {\n",
              "  /* unfitted */\n",
              "  background-color: var(--sklearn-color-unfitted-level-3);\n",
              "  color: var(--sklearn-color-background);\n",
              "  text-decoration: none;\n",
              "}\n",
              "\n",
              "#sk-container-id-1 a.estimator_doc_link.fitted:hover {\n",
              "  /* fitted */\n",
              "  background-color: var(--sklearn-color-fitted-level-3);\n",
              "}\n",
              "</style><div id=\"sk-container-id-1\" class=\"sk-top-container\"><div class=\"sk-text-repr-fallback\"><pre>SVC(random_state=0)</pre><b>In a Jupyter environment, please rerun this cell to show the HTML representation or trust the notebook. <br />On GitHub, the HTML representation is unable to render, please try loading this page with nbviewer.org.</b></div><div class=\"sk-container\" hidden><div class=\"sk-item\"><div class=\"sk-estimator fitted sk-toggleable\"><input class=\"sk-toggleable__control sk-hidden--visually\" id=\"sk-estimator-id-1\" type=\"checkbox\" checked><label for=\"sk-estimator-id-1\" class=\"sk-toggleable__label fitted sk-toggleable__label-arrow\"><div><div>SVC</div></div><div><a class=\"sk-estimator-doc-link fitted\" rel=\"noreferrer\" target=\"_blank\" href=\"https://scikit-learn.org/1.6/modules/generated/sklearn.svm.SVC.html\">?<span>Documentation for SVC</span></a><span class=\"sk-estimator-doc-link fitted\">i<span>Fitted</span></span></div></label><div class=\"sk-toggleable__content fitted\"><pre>SVC(random_state=0)</pre></div> </div></div></div></div>"
            ]
          },
          "metadata": {},
          "execution_count": 6
        }
      ]
    },
    {
      "cell_type": "code",
      "source": [
        "from sklearn.metrics import confusion_matrix, accuracy_score\n",
        "y_pred = classifier.predict(X_test)\n",
        "cm = confusion_matrix(y_test, y_pred)\n",
        "print(cm)\n",
        "accuracy_score(y_test, y_pred)"
      ],
      "metadata": {
        "colab": {
          "base_uri": "https://localhost:8080/"
        },
        "id": "okbXTdwWbEgY",
        "outputId": "a57a7c46-f291-410d-f440-4c54fc6c4b2b"
      },
      "execution_count": 7,
      "outputs": [
        {
          "output_type": "stream",
          "name": "stdout",
          "text": [
            "[[64  4]\n",
            " [ 3 29]]\n"
          ]
        },
        {
          "output_type": "execute_result",
          "data": {
            "text/plain": [
              "0.93"
            ]
          },
          "metadata": {},
          "execution_count": 7
        }
      ]
    },
    {
      "cell_type": "code",
      "source": [
        "from sklearn.model_selection import cross_val_score\n",
        "accuracies = cross_val_score(estimator = classifier, X = X_train, y = y_train, cv = 10)\n",
        "print(\"Accuracy: {:.2f} %\".format(accuracies.mean()*100))\n",
        "print(\"Standard Deviation: {:.2f} %\".format(accuracies.std()*100))"
      ],
      "metadata": {
        "colab": {
          "base_uri": "https://localhost:8080/"
        },
        "id": "QaPicwqXbGFH",
        "outputId": "21e9b267-7bda-467f-a185-e10a02d1353d"
      },
      "execution_count": 8,
      "outputs": [
        {
          "output_type": "stream",
          "name": "stdout",
          "text": [
            "Accuracy: 90.33 %\n",
            "Standard Deviation: 6.57 %\n"
          ]
        }
      ]
    },
    {
      "cell_type": "code",
      "source": [
        "from matplotlib.colors import ListedColormap\n",
        "X_set, y_set = X_test, y_test\n",
        "X1, X2 = np.meshgrid(np.arange(start = X_set[:, 0].min() - 1, stop = X_set[:, 0].max() + 1, step = 0.01),\n",
        "                     np.arange(start = X_set[:, 1].min() - 1, stop = X_set[:, 1].max() + 1, step = 0.01))\n",
        "plt.contourf(X1, X2, classifier.predict(np.array([X1.ravel(), X2.ravel()]).T).reshape(X1.shape),\n",
        "             alpha = 0.75, cmap = ListedColormap(('salmon', 'dodgerblue')))\n",
        "plt.xlim(X1.min(), X1.max())\n",
        "plt.ylim(X2.min(), X2.max())\n",
        "for i, j in enumerate(np.unique(y_set)):\n",
        "    plt.scatter(X_set[y_set == j, 0], X_set[y_set == j, 1],\n",
        "                c = ListedColormap(('salmon', 'dodgerblue'))(i), label = j)\n",
        "plt.title('Kernel SVM (Test set)')\n",
        "plt.xlabel('Age')\n",
        "plt.ylabel('Estimated Salary')\n",
        "plt.legend()\n",
        "plt.show()"
      ],
      "metadata": {
        "colab": {
          "base_uri": "https://localhost:8080/",
          "height": 527
        },
        "id": "t8HJx-4XbHZR",
        "outputId": "4d0e5a85-4bf7-4b43-f711-d5f18f4ced99"
      },
      "execution_count": 10,
      "outputs": [
        {
          "output_type": "stream",
          "name": "stderr",
          "text": [
            "/tmp/ipython-input-282457109.py:10: UserWarning: *c* argument looks like a single numeric RGB or RGBA sequence, which should be avoided as value-mapping will have precedence in case its length matches with *x* & *y*.  Please use the *color* keyword-argument or provide a 2D array with a single row if you intend to specify the same RGB or RGBA value for all points.\n",
            "  plt.scatter(X_set[y_set == j, 0], X_set[y_set == j, 1],\n"
          ]
        },
        {
          "output_type": "display_data",
          "data": {
            "text/plain": [
              "<Figure size 640x480 with 1 Axes>"
            ],
            "image/png": "[encoded data removed]"
          },
          "metadata": {}
        }
      ]
    },
    {
      "cell_type": "markdown",
      "source": [
        "#  Final Conclusion"
      ],
      "metadata": {
        "id": "LJc6WtAabsyt"
      }
    },
    {
      "cell_type": "markdown",
      "source": [
        "\n",
        "\n",
        "This course has taken us on a complete journey **from raw data to advanced Machine Learning models**, covering every step in the workflow:\n",
        "\n",
        "1. **Preprocessing & Data Cleaning**  \n",
        "   - Handling missing values, encoding categorical data, normalization, and scaling.  \n",
        "   - Ensuring data quality to prevent bias and leakage.  \n",
        "\n",
        "2. **Feature Engineering**  \n",
        "   - Feature selection (correlation, PCA) and feature construction.  \n",
        "   - Transforming raw inputs into meaningful representations that improve model performance.  \n",
        "\n",
        "3. **Model Building**  \n",
        "   - **Regression**: Linear Regression, Support Vector Regression (SVR).  \n",
        "   - **Classification**: Logistic Regression, SVM, Decision Trees, Random Forests.  \n",
        "   - **Unsupervised Learning**: Clustering (K-Means, Hierarchical), Association Rule Learning (Apriori, Eclat).  \n",
        "   - **Natural Language Processing (NLP)**: Bag-of-Words, TF-IDF, word embeddings.  \n",
        "   - **Deep Learning**: ANN for general tasks, CNNs for image recognition.  \n",
        "\n",
        "4. **Dimensionality Reduction**  \n",
        "   - Applying **PCA** (and Kernel PCA) to reduce complexity while retaining variance.  \n",
        "\n",
        "5. **Model Optimization**  \n",
        "   - **k-Fold Cross Validation** for robust evaluation.  \n",
        "   - **Grid Search** for hyperparameter tuning.  \n",
        "   - Boosting techniques: **XGBoost** and **CatBoost** for state-of-the-art performance.  \n",
        "\n",
        "---\n",
        "\n",
        "### Key Takeaways\n",
        "- Machine Learning is not only about choosing an algorithm but about **building a reliable pipeline**:  \n",
        "  *Data → Preprocessing → Feature Engineering → Model Training → Optimization → Evaluation.*  \n",
        "- Each algorithm has its **strengths and limitations**, so the right choice depends on the dataset and problem.  \n",
        "- Modern boosting methods (XGBoost, CatBoost) highlight how **automation and efficiency** are driving real-world success.  \n",
        "- Proper **evaluation metrics** (MSE, R², Accuracy, Precision, Recall, F1, ROC-AUC) ensure that models are not only accurate but also generalize to unseen data.  \n",
        "\n",
        "---\n",
        "\n",
        "### Final Note\n",
        "By mastering this workflow, you now have the skills to approach **any machine learning problem** systematically. Whether it’s structured data, text, or images, you can design, train, optimize, and evaluate models with confidence.  \n",
        "\n",
        "This is **Machine Learning from A to Z** — a foundation that equips you to tackle research, real-world applications, and future advances in AI.  \n"
      ],
      "metadata": {
        "id": "eaedrNu9brUy"
      }
    }
  ]
}