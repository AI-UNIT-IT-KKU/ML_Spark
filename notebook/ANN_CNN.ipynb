{
  "nbformat": 4,
  "nbformat_minor": 0,
  "metadata": {
    "colab": {
      "provenance": []
    },
    "kernelspec": {
      "name": "python3",
      "display_name": "Python 3"
    },
    "language_info": {
      "name": "python"
    }
  },
  "cells": [
    {
      "cell_type": "markdown",
      "source": [
        "# Artificial Neural Networks (ANN) and Convolutional Neural Networks (CNN)\n"
      ],
      "metadata": {
        "id": "X4f-Mgms_X33"
      }
    },
    {
      "cell_type": "markdown",
      "source": [
        "![images (7).png](data:image/png;base64,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)\n",
        "\n",
        "\n",
        "![download (18).png](data:image/png;base64,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)"
      ],
      "metadata": {
        "id": "pfiSD2O3EKXp"
      }
    },
    {
      "cell_type": "markdown",
      "source": [
        "## 1. ANN"
      ],
      "metadata": {
        "id": "fOvG3Jvj_b-8"
      }
    },
    {
      "cell_type": "markdown",
      "source": [
        "\n",
        "Artificial Neural Networks (ANNs) were inspired by the **biological neurons** in the human brain.  \n",
        "They consist of layers of interconnected nodes (\"neurons\") that can learn complex patterns from data.  \n",
        "\n",
        "- **History:**  \n",
        "  Early models appeared in the 1950s (Perceptron by Rosenblatt), but due to limitations in computing power and data, progress was slow.  \n",
        "  With the rise of **big data** and **GPUs**, ANNs became practical and triggered the **Deep Learning revolution**.  \n",
        "\n",
        "- **Key Idea:**  \n",
        "  ANNs learn directly from raw data by adjusting internal weights. Unlike traditional ML, they **do not require manual feature extraction**.  \n",
        "\n",
        "- **Black Box:**  \n",
        "  While ANNs achieve remarkable accuracy, they are often considered a **black box** — it’s hard to interpret exactly how they reach decisions.  \n",
        "\n",
        "---"
      ],
      "metadata": {
        "id": "P_qjhxuz_jNK"
      }
    },
    {
      "cell_type": "markdown",
      "source": [
        "\n",
        "## 2. From ANN to CNN"
      ],
      "metadata": {
        "id": "dgRlAQc0_lQS"
      }
    },
    {
      "cell_type": "markdown",
      "source": [
        "While ANNs can handle many tasks, they struggle with high-dimensional data like images.  \n",
        "\n",
        "**Convolutional Neural Networks (CNNs)** were developed to address this challenge.  \n",
        "CNNs automatically extract **features** (edges, textures, shapes) from images using **kernels/filters**.  \n",
        "\n",
        "- **ANN:** fully connected, requires flattened input, ignores spatial structure.  \n",
        "- **CNN:** uses convolutional layers that preserve **spatial relationships** and detect patterns.  \n"
      ],
      "metadata": {
        "id": "ihnsSPrL_nZA"
      }
    },
    {
      "cell_type": "markdown",
      "source": [
        "## 3. CNN Architecture (Layers)"
      ],
      "metadata": {
        "id": "vdATadML_pgm"
      }
    },
    {
      "cell_type": "markdown",
      "source": [
        "\n",
        "\n",
        "\n",
        "---\n",
        "\n",
        "\n",
        "| Layer              | Description |\n",
        "|--------------------|-------------|\n",
        "| **Input Layer**    | Takes raw image pixels (e.g., 28x28 grayscale or 224x224x3 RGB). |\n",
        "| **Convolution Layer** | Applies filters (kernels) to extract local features such as edges or textures. |\n",
        "| **Activation (ReLU)** | Introduces non-linearity, allowing the network to learn complex patterns. |\n",
        "| **Pooling Layer (Max/Average)** | Reduces spatial dimensions, keeps the most important features, improves efficiency. |\n",
        "| **Flatten Layer**  | Converts 2D feature maps into a 1D vector for the dense layers. |\n",
        "| **Fully Connected (Dense) Layer** | Combines extracted features to make predictions. |\n",
        "| **Output Layer (Softmax/Sigmoid)** | Produces final probabilities or class labels. |\n",
        "\n",
        "---\n",
        "\n",
        "\n",
        "- ANNs started the revolution but were limited in image-related tasks.  \n",
        "- CNNs became dominant because they **learn hierarchical features automatically**:  \n",
        "  - Lower layers: detect edges.  \n",
        "  - Middle layers: detect textures and shapes.  \n",
        "  - Higher layers: detect objects.  \n",
        "\n",
        "This made CNNs the backbone of **computer vision** tasks like image classification, object detection, and facial recognition.\n"
      ],
      "metadata": {
        "id": "--yaZDqn_VGl"
      }
    },
    {
      "cell_type": "markdown",
      "source": [
        "## 4. Libraries and Image Preprocessing in Deep Learning\n"
      ],
      "metadata": {
        "id": "iJwIvC4aAdLL"
      }
    },
    {
      "cell_type": "markdown",
      "source": [
        "\n",
        "### 1. Libraries for Neural Networks\n",
        "Deep Learning models like ANN and CNN are implemented using specialized frameworks:\n",
        "\n",
        "#### 1.1 TensorFlow\n",
        "- Open-source library by Google.  \n",
        "- Provides low-level control for **tensors, gradients, and GPU acceleration**.  \n",
        "- Has **Keras API** built-in → makes model building simple with high-level layers.  \n",
        "- Widely used for research and production.  \n",
        "\n",
        "#### 1.2 PyTorch\n",
        "- Open-source library by Facebook (Meta).  \n",
        "- Popular in research due to its **dynamic computation graph** (easier debugging).  \n",
        "- Strong ecosystem for NLP and vision tasks.  \n",
        "\n",
        "#### 1.3 Keras\n",
        "- High-level API that runs on top of TensorFlow.  \n",
        "- Easy to build models in just a few lines of code.  \n",
        "- Suitable for fast prototyping.  \n",
        "\n",
        "---\n",
        "\n",
        "### 2. Image Preprocessing\n",
        "Before feeding images into a CNN, they need to be standardized:\n",
        "\n",
        "- **Resizing**  \n",
        "  Images come in different sizes (e.g., 640x480, 1280x720).  \n",
        "  CNNs require fixed input size (e.g., 224x224).  \n",
        "\n",
        "- **Normalization**  \n",
        "  Pixel values range from 0 to 255.  \n",
        "  Scaling them to [0, 1] improves training stability.  \n",
        "  \\[\n",
        "  x' = \\frac{x}{255}\n",
        "  \\]  \n",
        "\n",
        "- **Augmentation**  \n",
        "  Artificially increase dataset size with transformations:  \n",
        "  - Rotation  \n",
        "  - Flipping  \n",
        "  - Zooming  \n",
        "  - Cropping  \n",
        "  Helps reduce **overfitting**.  \n",
        "\n",
        "---\n",
        "\n",
        "### 3. Example (TensorFlow + Keras)\n",
        "```python\n",
        "import tensorflow as tf\n",
        "from tensorflow.keras.preprocessing.image import ImageDataGenerator\n",
        "\n",
        "# Normalization + Augmentation\n",
        "datagen = ImageDataGenerator(\n",
        "    rescale=1./255,       # Normalize pixels\n",
        "    rotation_range=20,    # Random rotations\n",
        "    width_shift_range=0.2,\n",
        "    height_shift_range=0.2,\n",
        "    horizontal_flip=True\n",
        ")\n",
        "\n",
        "# Load dataset from directory\n",
        "train_data = datagen.flow_from_directory(\n",
        "    'data/train',\n",
        "    target_size=(224, 224),  # Resize images\n",
        "    batch_size=32,\n",
        "    class_mode='categorical'\n",
        ")\n"
      ],
      "metadata": {
        "id": "4LiyF63mAHpi"
      }
    },
    {
      "cell_type": "markdown",
      "source": [
        "# 5. Training Neural Networks\n"
      ],
      "metadata": {
        "id": "8OPGeY5JDVu-"
      }
    },
    {
      "cell_type": "markdown",
      "source": [
        "\n",
        "## 1. Forward Propagation\n",
        "- Input data passes through the network layer by layer.  \n",
        "- Each layer applies **weights (W)**, **biases (b)**, and an **activation function**.  \n",
        "- Produces predictions **ŷ (y-hat)** at the output layer.  \n",
        "\n",
        "Mathematically (for one layer):\n",
        "$$\n",
        "z = W \\cdot x + b, \\quad a = f(z)\n",
        "$$\n",
        "where \\(f\\) is the activation function (ReLU, Sigmoid, etc.).  \n",
        "\n",
        "---\n",
        "\n",
        "## 2. Backward Propagation\n",
        "- Compares predictions \\( \\hat{y} \\) with true labels \\( y \\) using a **loss function** (e.g., MSE, Cross-Entropy).  \n",
        "- Calculates gradients of loss with respect to weights (∂L/∂W).  \n",
        "- Uses **chain rule** to propagate errors backward through layers.  \n",
        "- Updates weights to minimize loss.  \n",
        "\n",
        "---\n",
        "\n",
        "## 3. Mini-Batch Gradient Descent\n",
        "Instead of updating weights after:\n",
        "- **One sample** → (Stochastic GD, noisy).  \n",
        "- **All samples** → (Batch GD, slow).  \n",
        "\n",
        "We use **Mini-Batch GD**:\n",
        "- Splits data into small batches (e.g., 32, 64 samples).  \n",
        "- Each batch updates weights → balances speed and stability.  \n",
        "- Allows parallelization on GPUs.  \n",
        "\n",
        "---\n",
        "\n",
        "## 4. Optimization Algorithms\n",
        "Optimization controls **how weights are updated** during training.\n",
        "\n",
        "| Optimizer | Description | Pros |\n",
        "|-----------|-------------|------|\n",
        "| **SGD** (Stochastic GD) | Updates with each batch | Simple, robust |\n",
        "| **Momentum** | Adds velocity to updates | Faster convergence |\n",
        "| **RMSProp** | Scales learning rate by recent gradients | Good for RNNs |\n",
        "| **Adam** (Adaptive Moment Estimation) | Combines Momentum + RMSProp | Most widely used, efficient |\n",
        "\n",
        "**Adam update rule:**  \n",
        "\\[\n",
        "\\theta_{t+1} = \\theta_t - \\frac{\\eta}{\\sqrt{\\hat{v}_t} + \\epsilon} \\hat{m}_t\n",
        "\\]  \n",
        "\n",
        "where:  \n",
        "- \\(\\hat{m}_t\\) = moving average of gradients (momentum).  \n",
        "- \\(\\hat{v}_t\\) = moving average of squared gradients.  \n",
        "- \\(\\eta\\) = learning rate.  \n",
        "\n",
        "---\n",
        "\n",
        "## 5. Key Insight\n",
        "- **Forward pass** → compute predictions.  \n",
        "- **Backward pass** → compute gradients & update weights.  \n",
        "- **Mini-batch training** → stable and efficient.  \n",
        "- **Optimizers like Adam** → make training faster and more reliable.  \n"
      ],
      "metadata": {
        "id": "iBueedmmDT8V"
      }
    },
    {
      "cell_type": "markdown",
      "source": [
        "## Example"
      ],
      "metadata": {
        "id": "P7izbDMqBHOI"
      }
    },
    {
      "cell_type": "code",
      "source": [
        "import tensorflow as tf"
      ],
      "metadata": {
        "id": "Bn4kyA_ICFXS"
      },
      "execution_count": 9,
      "outputs": []
    },
    {
      "cell_type": "code",
      "source": [
        "tf.__version__"
      ],
      "metadata": {
        "colab": {
          "base_uri": "https://localhost:8080/",
          "height": 35
        },
        "id": "_ojUM1SJBT3b",
        "outputId": "4f520b73-e047-4880-a705-d9415e9ba70f"
      },
      "execution_count": 3,
      "outputs": [
        {
          "output_type": "execute_result",
          "data": {
            "text/plain": [
              "'2.19.0'"
            ],
            "application/vnd.google.colaboratory.intrinsic+json": {
              "type": "string"
            }
          },
          "metadata": {},
          "execution_count": 3
        }
      ]
    },
    {
      "cell_type": "code",
      "source": [
        "# Load and preprocess the MNIST dataset\n",
        "mnist = tf.keras.datasets.mnist\n",
        "(x_train, y_train), (x_test, y_test) = mnist.load_data()\n",
        "x_train, x_test = x_train / 255.0, x_test / 255.0\n"
      ],
      "metadata": {
        "id": "s1Vf3RGaBwiO"
      },
      "execution_count": 7,
      "outputs": []
    },
    {
      "cell_type": "code",
      "source": [
        "# Reshape data to include a channel dimension (for CNNs)\n",
        "x_train = x_train[..., tf.newaxis]\n",
        "x_test = x_test[..., tf.newaxis]"
      ],
      "metadata": {
        "id": "iG4WH5PuByIJ"
      },
      "execution_count": 8,
      "outputs": []
    },
    {
      "cell_type": "code",
      "source": [
        "# Build a simple CNN model\n",
        "model = tf.keras.models.Sequential([\n",
        "    tf.keras.layers.Conv2D(32, (3, 3), activation='relu', input_shape=(28, 28, 1)),\n",
        "    tf.keras.layers.MaxPooling2D((2, 2)),\n",
        "    tf.keras.layers.Conv2D(64, (3, 3), activation='relu'),\n",
        "    tf.keras.layers.MaxPooling2D((2, 2)),\n",
        "    tf.keras.layers.Flatten(),\n",
        "    tf.keras.layers.Dense(128, activation='relu'),\n",
        "    tf.keras.layers.Dense(10, activation='softmax')\n",
        "])\n"
      ],
      "metadata": {
        "id": "VrraGI9_B2Ck"
      },
      "execution_count": null,
      "outputs": []
    },
    {
      "cell_type": "code",
      "source": [
        "# Compile the model\n",
        "model.compile(optimizer='adam',\n",
        "              loss='sparse_categorical_crossentropy',\n",
        "              metrics=['accuracy'])"
      ],
      "metadata": {
        "id": "pBhBVh3dB48i"
      },
      "execution_count": null,
      "outputs": []
    },
    {
      "cell_type": "code",
      "source": [
        "# Train the model\n",
        "model.fit(x_train, y_train, epochs=5, validation_data=(x_test, y_test))"
      ],
      "metadata": {
        "id": "8XNZCZWyB6bc"
      },
      "execution_count": null,
      "outputs": []
    },
    {
      "cell_type": "markdown",
      "source": [
        "# 6. Summary: ANN, CNN, and Image Processing"
      ],
      "metadata": {
        "id": "QKfTfSRyCYbJ"
      }
    },
    {
      "cell_type": "markdown",
      "source": [
        "\n",
        "- **Artificial Neural Networks (ANNs):**  \n",
        "  - Inspired by the brain, learn from raw data.  \n",
        "  - Do not require manual feature extraction.  \n",
        "  - Powerful but often seen as a **black box**.  \n",
        "\n",
        "- **Convolutional Neural Networks (CNNs):**  \n",
        "  - Extension of ANNs, specialized for images.  \n",
        "  - Use **kernels/filters** to automatically extract features.  \n",
        "  - Layers: Convolution → ReLU → Pooling → Flatten → Dense → Output.  \n",
        "  - More effective for **computer vision** tasks.  \n",
        "\n",
        "- **Libraries:**  \n",
        "  - **TensorFlow + Keras:** Production-ready, easy-to-use layers API.  \n",
        "  - **PyTorch:** Flexible, widely used in research.  \n",
        "\n",
        "- **Image Preprocessing:**  \n",
        "  - **Resizing:** ensures consistent input shape.  \n",
        "  - **Normalization:** scales pixel values (0–255 → 0–1).  \n",
        "  - **Augmentation:** rotation, flipping, zoom → prevents overfitting.  \n",
        "\n",
        "---\n",
        "\n",
        "\n",
        "ANNs started the deep learning revolution, but CNNs became the standard for images because they can **learn features automatically**.  \n",
        "With the help of frameworks like TensorFlow and proper preprocessing, CNNs achieve state-of-the-art performance in **image classification, object detection, and beyond**.  \n"
      ],
      "metadata": {
        "id": "n7ch4yYuCXMt"
      }
    }
  ]
}
